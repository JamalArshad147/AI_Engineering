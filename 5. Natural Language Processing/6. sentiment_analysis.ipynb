{
 "cells": [
  {
   "cell_type": "markdown",
   "id": "cb2f7cd4",
   "metadata": {},
   "source": [
    "**Textblob**\n",
    "Rule-based Sentiment Analysis"
   ]
  },
  {
   "cell_type": "code",
   "execution_count": 1,
   "id": "1cc8101c",
   "metadata": {},
   "outputs": [],
   "source": [
    "from textblob import TextBlob"
   ]
  },
  {
   "cell_type": "code",
   "execution_count": 2,
   "id": "af94871d",
   "metadata": {},
   "outputs": [],
   "source": [
    "s1 = \"i had a great time at the movie it was really funny\"\n",
    "s2 = \"i had a great time at the movie but the parking was terrible\"\n",
    "s3 = \"i had a great time at the movie but the parking wasn't great\"\n",
    "s4 = \"i went to see a movie\""
   ]
  },
  {
   "cell_type": "markdown",
   "id": "a0a256d8",
   "metadata": {},
   "source": [
    "Textblob return a score from -1 to 1, where the negative scores indicate negative sentiment, and positive scores indicat positive sentiment"
   ]
  },
  {
   "cell_type": "code",
   "execution_count": null,
   "id": "9f7d40e1",
   "metadata": {},
   "outputs": [
    {
     "name": "stdout",
     "output_type": "stream",
     "text": [
      "i had a great time at the movie it was really funny\n",
      "0.525\n"
     ]
    }
   ],
   "source": [
    "print(s1)\n",
    "sentiment_score = TextBlob(s1)\n",
    "print(sentiment_score.sentiment.polarity)"
   ]
  },
  {
   "cell_type": "code",
   "execution_count": 15,
   "id": "c43bd4c0",
   "metadata": {},
   "outputs": [
    {
     "name": "stdout",
     "output_type": "stream",
     "text": [
      "i had a great time at the movie but the parking was terrible\n",
      "-0.09999999999999998\n"
     ]
    }
   ],
   "source": [
    "print(s2)\n",
    "sentiment_score_2 = TextBlob(s2)\n",
    "print(sentiment_score_2.sentiment.polarity)"
   ]
  },
  {
   "cell_type": "code",
   "execution_count": 16,
   "id": "514f9faa",
   "metadata": {},
   "outputs": [
    {
     "name": "stdout",
     "output_type": "stream",
     "text": [
      "i had a great time at the movie but the parking wasn't great\n",
      "0.8\n"
     ]
    }
   ],
   "source": [
    "print(s3)\n",
    "sentiment_score_3 = TextBlob(s3)\n",
    "print(sentiment_score_3.sentiment.polarity)"
   ]
  },
  {
   "cell_type": "code",
   "execution_count": 17,
   "id": "ca670a53",
   "metadata": {},
   "outputs": [
    {
     "name": "stdout",
     "output_type": "stream",
     "text": [
      "i went to see a movie\n",
      "0.0\n"
     ]
    }
   ],
   "source": [
    "print(s4)\n",
    "sentiment_score_4 = TextBlob(s4)\n",
    "print(sentiment_score_4.sentiment.polarity)"
   ]
  },
  {
   "cell_type": "markdown",
   "id": "4bf7cfd8",
   "metadata": {},
   "source": [
    "**VADER**"
   ]
  },
  {
   "cell_type": "code",
   "execution_count": 18,
   "id": "a73828ca",
   "metadata": {},
   "outputs": [],
   "source": [
    "from vaderSentiment.vaderSentiment import SentimentIntensityAnalyzer"
   ]
  },
  {
   "cell_type": "code",
   "execution_count": 19,
   "id": "eadbe139",
   "metadata": {},
   "outputs": [],
   "source": [
    "vader = SentimentIntensityAnalyzer()"
   ]
  },
  {
   "cell_type": "markdown",
   "id": "b9edb0dc",
   "metadata": {},
   "source": [
    "Compound score from -1 to 1, where the negative scores indicate negative sentiment, and positive scores indicat positive sentiment"
   ]
  },
  {
   "cell_type": "code",
   "execution_count": 20,
   "id": "efb5b618",
   "metadata": {},
   "outputs": [
    {
     "name": "stdout",
     "output_type": "stream",
     "text": [
      "i had a great time at the movie it was really funny\n",
      "{'neg': 0.0, 'neu': 0.578, 'pos': 0.422, 'compound': 0.807}\n"
     ]
    }
   ],
   "source": [
    "print(s1)\n",
    "print(vader.polarity_scores(s1))"
   ]
  },
  {
   "cell_type": "code",
   "execution_count": 21,
   "id": "614960a4",
   "metadata": {},
   "outputs": [
    {
     "name": "stdout",
     "output_type": "stream",
     "text": [
      "i had a great time at the movie but the parking was terrible\n",
      "{'neg': 0.234, 'neu': 0.621, 'pos': 0.144, 'compound': -0.3818}\n"
     ]
    }
   ],
   "source": [
    "print(s2)\n",
    "print(vader.polarity_scores(s2))"
   ]
  },
  {
   "cell_type": "code",
   "execution_count": 22,
   "id": "2e27e6b0",
   "metadata": {},
   "outputs": [
    {
     "name": "stdout",
     "output_type": "stream",
     "text": [
      "i had a great time at the movie but the parking wasn't great\n",
      "{'neg': 0.247, 'neu': 0.611, 'pos': 0.142, 'compound': -0.4387}\n"
     ]
    }
   ],
   "source": [
    "print(s3)\n",
    "print(vader.polarity_scores(s3))"
   ]
  },
  {
   "cell_type": "code",
   "execution_count": 23,
   "id": "9c7043d3",
   "metadata": {},
   "outputs": [
    {
     "name": "stdout",
     "output_type": "stream",
     "text": [
      "i went to see a movie\n",
      "{'neg': 0.0, 'neu': 1.0, 'pos': 0.0, 'compound': 0.0}\n"
     ]
    }
   ],
   "source": [
    "print(s4)\n",
    "print(vader.polarity_scores(s4))"
   ]
  }
 ],
 "metadata": {
  "kernelspec": {
   "display_name": "env_ai",
   "language": "python",
   "name": "python3"
  },
  "language_info": {
   "codemirror_mode": {
    "name": "ipython",
    "version": 3
   },
   "file_extension": ".py",
   "mimetype": "text/x-python",
   "name": "python",
   "nbconvert_exporter": "python",
   "pygments_lexer": "ipython3",
   "version": "3.11.13"
  }
 },
 "nbformat": 4,
 "nbformat_minor": 5
}
